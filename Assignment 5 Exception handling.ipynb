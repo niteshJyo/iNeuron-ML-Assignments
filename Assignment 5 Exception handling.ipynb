{
 "cells": [
  {
   "cell_type": "markdown",
   "id": "a4b40fe8",
   "metadata": {},
   "source": [
    "#### 1. Write a function to compute 5/0 and use try/except to catch the exceptions."
   ]
  },
  {
   "cell_type": "code",
   "execution_count": 3,
   "id": "66bbaada",
   "metadata": {},
   "outputs": [
    {
     "name": "stdout",
     "output_type": "stream",
     "text": [
      "Enter num p : 5\n",
      "Enter num q : 0\n",
      "Handling run-time error:  division by zero\n"
     ]
    }
   ],
   "source": [
    "def zero_division():\n",
    "    try:\n",
    "        p = int(input(\"Enter num p : \"))\n",
    "        q = int(input(\"Enter num q : \"))\n",
    "        print(\"Division p/q : \", p/q)\n",
    "        return \n",
    "    except ZeroDivisionError as err:\n",
    "        print( 'Handling run-time error: ', err )\n",
    "        return \n",
    "    \n",
    "zero_division()"
   ]
  },
  {
   "cell_type": "markdown",
   "id": "3eefe61d",
   "metadata": {},
   "source": [
    "#### 2. Implement a Python program to generate all sentences where subject is in [\"Americans\", \"Indians\"] and verb is in [\"Play\", \"watch\"] and the object is in [\"Baseball\",\"cricket\"]."
   ]
  },
  {
   "cell_type": "code",
   "execution_count": 4,
   "id": "f62d470e",
   "metadata": {},
   "outputs": [
    {
     "name": "stdout",
     "output_type": "stream",
     "text": [
      "Americans  play Baseball\n",
      "Americans  play Cricket\n",
      "Americans  watch Baseball\n",
      "Americans  watch Cricket\n",
      "Indians play Baseball\n",
      "Indians play Cricket\n",
      "Indians watch Baseball\n",
      "Indians watch Cricket\n"
     ]
    }
   ],
   "source": [
    "def sent_comb(subjects,verbs,objects):\n",
    "    return [sub+\" \"+verb+\" \"+obj for sub in subjects for verb in verbs for obj in objects]\n",
    "\n",
    "subjects=[\"Americans \",\"Indians\"]\n",
    "verbs=[\"play\",\"watch\"]\n",
    "objects=[\"Baseball\",\"Cricket\"]\n",
    "sentences = sent_comb(subjects,verbs,objects)\n",
    "for sent in sentences:\n",
    "    print(sent)"
   ]
  },
  {
   "cell_type": "code",
   "execution_count": null,
   "id": "9f948429",
   "metadata": {},
   "outputs": [],
   "source": []
  }
 ],
 "metadata": {
  "kernelspec": {
   "display_name": "Python 3",
   "language": "python",
   "name": "python3"
  },
  "language_info": {
   "codemirror_mode": {
    "name": "ipython",
    "version": 3
   },
   "file_extension": ".py",
   "mimetype": "text/x-python",
   "name": "python",
   "nbconvert_exporter": "python",
   "pygments_lexer": "ipython3",
   "version": "3.8.8"
  }
 },
 "nbformat": 4,
 "nbformat_minor": 5
}
