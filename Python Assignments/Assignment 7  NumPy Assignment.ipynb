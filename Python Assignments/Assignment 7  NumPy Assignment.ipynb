{
 "cells": [
  {
   "cell_type": "markdown",
   "id": "82a6bc0a",
   "metadata": {},
   "source": [
    "### 1. Write a function so that the columns of the output matrix are powers of the input vector."
   ]
  },
  {
   "cell_type": "code",
   "execution_count": null,
   "id": "925032bc",
   "metadata": {},
   "outputs": [],
   "source": [
    "import numpy as np\n",
    "\n",
    "# function\n",
    "def mat_vec(col, vec , increasing=False):\n",
    "    if(increasing):\n",
    "        vector = np.array([i for i in range(1,vec+1)])\n",
    "    else:\n",
    "        vector = np.array([i for i in range(vec,0,-1)])\n",
    "        \n",
    "    temp = []\n",
    "    for num in col:\n",
    "        temp.append(num**vector)\n",
    "    return np.mat(temp)\n",
    "\n",
    "column = np.array([1,2,3,4])\n",
    "print(mat_vec(column,4))\n",
    "    "
   ]
  },
  {
   "cell_type": "code",
   "execution_count": null,
   "id": "8d49c29a",
   "metadata": {},
   "outputs": [],
   "source": [
    "# using vander function \n",
    "\n",
    "col = np.array([1,2,3,4])\n",
    "Y = 5\n",
    "print(np.vander(col,Y))"
   ]
  },
  {
   "cell_type": "markdown",
   "id": "a8f32e2a",
   "metadata": {},
   "source": [
    "### 2. Write a function to find moving average in an array over a window:"
   ]
  },
  {
   "cell_type": "code",
   "execution_count": null,
   "id": "641bcdc4",
   "metadata": {},
   "outputs": [],
   "source": [
    "def moving_avg(nums,window):\n",
    "    temp = np.array([sum(nums[i:i+window]) for i in range(len(nums)-window+1)])\n",
    "    return temp/window\n",
    "\n",
    "\n",
    "nums = [3, 5, 7, 2, 8, 10, 11, 65, 72, 81, 99, 100, 150]\n",
    "k = 3\n",
    "moving_avg(nums,k)"
   ]
  },
  {
   "cell_type": "code",
   "execution_count": null,
   "id": "6fc719bd",
   "metadata": {},
   "outputs": [],
   "source": []
  }
 ],
 "metadata": {
  "kernelspec": {
   "display_name": "Python 3",
   "language": "python",
   "name": "python3"
  },
  "language_info": {
   "codemirror_mode": {
    "name": "ipython",
    "version": 3
   },
   "file_extension": ".py",
   "mimetype": "text/x-python",
   "name": "python",
   "nbconvert_exporter": "python",
   "pygments_lexer": "ipython3",
   "version": "3.8.8"
  }
 },
 "nbformat": 4,
 "nbformat_minor": 5
}
