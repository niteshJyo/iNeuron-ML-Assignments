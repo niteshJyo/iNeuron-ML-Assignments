{
 "cells": [
  {
   "cell_type": "markdown",
   "id": "f2564f74",
   "metadata": {},
   "source": [
    "## Que 1.1"
   ]
  },
  {
   "cell_type": "code",
   "execution_count": 12,
   "id": "7f3ed482",
   "metadata": {},
   "outputs": [
    {
     "name": "stdout",
     "output_type": "stream",
     "text": [
      "Enter side a : 3\n",
      "Enter side b : 6\n",
      "Enter side c : 7\n",
      "Area of triangle is :  8.94427190999916\n"
     ]
    }
   ],
   "source": [
    "class Triangle:\n",
    "        \n",
    "    def set_data(self):\n",
    "        self.a = int(input(\"Enter side a : \"))\n",
    "        self.b = int(input(\"Enter side b : \"))\n",
    "        self.c = int(input(\"Enter side c : \"))\n",
    "\n",
    "        \n",
    "class TriangleArea(Triangle):\n",
    "    \n",
    "    def __init__(self):\n",
    "        Triangle.__init__(self)\n",
    "        Triangle.set_data(self)\n",
    "        \n",
    "    def semi_perimeter(self):\n",
    "        return (self.a+self.b+self.c)/2\n",
    "    \n",
    "    def area(self):\n",
    "        s = self.semi_perimeter()\n",
    "        return (s*(s-self.a)*(s-self.b)*(s-self.c)) ** 0.5\n",
    "    \n",
    "def main():  \n",
    "    area_t = TriangleArea()\n",
    "    print(\"Area of triangle is : \", area_t.area())\n",
    "\n",
    "main()"
   ]
  },
  {
   "cell_type": "markdown",
   "id": "8f9c2766",
   "metadata": {},
   "source": [
    "###  Que. 1.2 Write a function filter_long_words() that takes a list of words and an integer n and returns the list of words that are longer than n."
   ]
  },
  {
   "cell_type": "code",
   "execution_count": 14,
   "id": "9051555d",
   "metadata": {},
   "outputs": [
    {
     "name": "stdout",
     "output_type": "stream",
     "text": [
      "Enter a number : 5\n",
      "['Please', 'string']\n"
     ]
    }
   ],
   "source": [
    "def filter_long_words(words:list, num:int):\n",
    "    return [word for word in words if(len(word)>num)]\n",
    "\n",
    "words = ['a','Please', 'if','split', 'this', 'string']\n",
    "num = int(input(\"Enter a number : \"))\n",
    "print(filter_long_words(words,num))\n",
    "    "
   ]
  },
  {
   "cell_type": "markdown",
   "id": "5e9a2018",
   "metadata": {},
   "source": [
    "### Que 2.1 Write a Python program using function concept that maps list of words into a list of integers representing the lengths of the corresponding words."
   ]
  },
  {
   "cell_type": "code",
   "execution_count": 15,
   "id": "ff3fbe8c",
   "metadata": {},
   "outputs": [
    {
     "name": "stdout",
     "output_type": "stream",
     "text": [
      "[1, 6, 2, 5, 4, 6]\n"
     ]
    }
   ],
   "source": [
    "def length_words(words:list, num:int):\n",
    "    return [len(word) for word in words]\n",
    "\n",
    "words = ['a','Please', 'if','split', 'this', 'string']\n",
    "\n",
    "print(length_words(words,num))\n",
    "    "
   ]
  },
  {
   "cell_type": "markdown",
   "id": "1c18460e",
   "metadata": {},
   "source": [
    "### Que 2.2 Write a Python function which takes a character (i.e. a string of length 1) and returns True if it is a vowel, False otherwise."
   ]
  },
  {
   "cell_type": "code",
   "execution_count": 16,
   "id": "25d95321",
   "metadata": {},
   "outputs": [
    {
     "name": "stdout",
     "output_type": "stream",
     "text": [
      "Enter a character : a\n",
      "True\n"
     ]
    }
   ],
   "source": [
    "def is_vowel(ch):\n",
    "    if(len(ch)>1 and len(ch)<1):\n",
    "        return \"Enter only one character.\"\n",
    "    if(ch in 'aeiouAEIOU'):\n",
    "        return True\n",
    "    return False\n",
    "\n",
    "ch = input(\"Enter a character : \")\n",
    "print(is_vowel(ch))"
   ]
  },
  {
   "cell_type": "code",
   "execution_count": null,
   "id": "a6b627f5",
   "metadata": {},
   "outputs": [],
   "source": []
  }
 ],
 "metadata": {
  "kernelspec": {
   "display_name": "Python 3",
   "language": "python",
   "name": "python3"
  },
  "language_info": {
   "codemirror_mode": {
    "name": "ipython",
    "version": 3
   },
   "file_extension": ".py",
   "mimetype": "text/x-python",
   "name": "python",
   "nbconvert_exporter": "python",
   "pygments_lexer": "ipython3",
   "version": "3.8.8"
  }
 },
 "nbformat": 4,
 "nbformat_minor": 5
}
