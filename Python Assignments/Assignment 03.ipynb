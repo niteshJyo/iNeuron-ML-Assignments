{
 "cells": [
  {
   "cell_type": "markdown",
   "id": "920227ca",
   "metadata": {},
   "source": [
    "#### Que. 1.1 Write a Python Program to implement your own myreduce() function which works exactly\n",
    "#### like Python's built-in function reduce()"
   ]
  },
  {
   "cell_type": "code",
   "execution_count": 7,
   "id": "ef6c6141",
   "metadata": {},
   "outputs": [
    {
     "name": "stdout",
     "output_type": "stream",
     "text": [
      "Enter a no. : 10\n",
      "Sum of n numbers :  55\n"
     ]
    }
   ],
   "source": [
    "# function\n",
    "def myreduce(fun, arr):\n",
    "    first = arr[0]\n",
    "    for i in range(1,len(arr)):\n",
    "        first = fun(first,arr[i])\n",
    "        output = first\n",
    "    return output\n",
    "\n",
    "# Implementation\n",
    "def sum(a,b):\n",
    "    return a+b\n",
    "\n",
    "\n",
    "n = int(input(\"Enter a no. : \"))\n",
    "num = [ i+1 for i in range(n) ]\n",
    "print(\"Sum of n numbers : \", myreduce(sum,num))"
   ]
  },
  {
   "cell_type": "markdown",
   "id": "f67d2bc6",
   "metadata": {},
   "source": [
    "#### Que. 1.2  Write a Python program to implement your own myfilter() function which works exactly like Python's built-in function filter()"
   ]
  },
  {
   "cell_type": "code",
   "execution_count": 9,
   "id": "deb2b84e",
   "metadata": {},
   "outputs": [
    {
     "name": "stdout",
     "output_type": "stream",
     "text": [
      "Enter a no. : 20\n",
      "Even Num :  [2, 4, 6, 8, 10, 12, 14, 16, 18, 20]\n"
     ]
    }
   ],
   "source": [
    "# function\n",
    "def filter(fun, arr):\n",
    "    arr = [ele for ele in arr if(fun(ele))]\n",
    "    return arr\n",
    "\n",
    "# Implementation\n",
    "def even(num):\n",
    "    if(num%2==0):\n",
    "        return True\n",
    "    return False\n",
    "\n",
    "\n",
    "n = int(input(\"Enter a no. : \"))\n",
    "num = [ i+1 for i in range(n) ]\n",
    "print(\"Even Num : \", filter(even,num))"
   ]
  },
  {
   "cell_type": "markdown",
   "id": "c049c47f",
   "metadata": {},
   "source": [
    "### Que.2 "
   ]
  },
  {
   "cell_type": "code",
   "execution_count": 10,
   "id": "a0da4076",
   "metadata": {},
   "outputs": [
    {
     "name": "stdout",
     "output_type": "stream",
     "text": [
      "['x', 'xx', 'xxx', 'xxxx', 'y', 'yy', 'yyy', 'yyyy', 'z', 'zz', 'zzz', 'zzzz']\n",
      "['x', 'y', 'z', 'xx', 'yy', 'zz', 'xxx', 'yyy', 'zzz', 'xxxx', 'yyyy', 'zzzz']\n",
      "[[2], [3], [4], [3], [4], [5], [4], [5], [6]]\n",
      "[[2, 3, 4, 5], [3, 4, 5, 6], [4, 5, 6, 7], [5, 6, 7, 8]]\n",
      "[(1, 1), (2, 1), (3, 1), (1, 2), (2, 2), (3, 2), (1, 3), (2, 3), (3, 3)]\n"
     ]
    }
   ],
   "source": [
    "#Section 1\n",
    "word_1=list('xyz')\n",
    "word_2=[x*n for x in word_1 for n in range(1,5) ]\n",
    "print(word_2)\n",
    "\n",
    "#Section 2\n",
    "word_3=[x*n for n in range(1,5) for x in word_1 ]\n",
    "print(word_3)\n",
    "\n",
    "#Section 3\n",
    "number=[2,3,4]\n",
    "number_1=[[x+n] for x in number for n in range(0,3)]\n",
    "print(number_1)\n",
    "\n",
    "#Section 4\n",
    "number_2=[2,3,4,5]\n",
    "number_3=[[x+n for n in range(0,4)] for x in number_2 ]\n",
    "print(number_3)\n",
    "\n",
    "#Section 5\n",
    "number_4=[1,2,3]\n",
    "number_5= [(b,a) for a in number_4 for b in number_4]\n",
    "print(number_5)"
   ]
  },
  {
   "cell_type": "code",
   "execution_count": null,
   "id": "ae3edf46",
   "metadata": {},
   "outputs": [],
   "source": []
  }
 ],
 "metadata": {
  "kernelspec": {
   "display_name": "Python 3",
   "language": "python",
   "name": "python3"
  },
  "language_info": {
   "codemirror_mode": {
    "name": "ipython",
    "version": 3
   },
   "file_extension": ".py",
   "mimetype": "text/x-python",
   "name": "python",
   "nbconvert_exporter": "python",
   "pygments_lexer": "ipython3",
   "version": "3.8.8"
  }
 },
 "nbformat": 4,
 "nbformat_minor": 5
}
