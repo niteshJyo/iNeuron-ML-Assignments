{
 "cells": [
  {
   "cell_type": "markdown",
   "id": "57a61b87",
   "metadata": {},
   "source": [
    " Que.1\n"
   ]
  },
  {
   "cell_type": "code",
   "execution_count": 1,
   "id": "e2e53033",
   "metadata": {},
   "outputs": [
    {
     "name": "stdout",
     "output_type": "stream",
     "text": [
      "2007,2014,2021,2028,2042,2049,2056,2063,2077,2084,2091,2098,2112,2119,2126,2133,2147,2154,2161,2168,2182,2189,2196,2203,2217,2224,2231,2238,2252,2259,2266,2273,2287,2294,2301,2308,2322,2329,2336,2343,2357,2364,2371,2378,2392,2399,2406,2413,2427,2434,2441,2448,2462,2469,2476,2483,2497,2504,2511,2518,2532,2539,2546,2553,2567,2574,2581,2588,2602,2609,2616,2623,2637,2644,2651,2658,2672,2679,2686,2693,2707,2714,2721,2728,2742,2749,2756,2763,2777,2784,2791,2798,2812,2819,2826,2833,2847,2854,2861,2868,2882,2889,2896,2903,2917,2924,2931,2938,2952,2959,2966,2973,2987,2994,3001,3008,3022,3029,3036,3043,3057,3064,3071,3078,3092,3099,3106,3113,3127,3134,3141,3148,3162,3169,3176,3183,3197,End\n"
     ]
    }
   ],
   "source": [
    "for num in range(2000,3201,7):\n",
    "    if(num%5!=0):\n",
    "        print(num,end = \",\")\n",
    "print(\"End\")\n"
   ]
  },
  {
   "cell_type": "markdown",
   "id": "b533db1c",
   "metadata": {},
   "source": [
    "Que .2"
   ]
  },
  {
   "cell_type": "code",
   "execution_count": 2,
   "id": "4e77f7eb",
   "metadata": {},
   "outputs": [
    {
     "name": "stdout",
     "output_type": "stream",
     "text": [
      "Enter first name : Nitesh \n",
      "Enter last name : jyotishi\n",
      " hsetiN ihsitoyj\n"
     ]
    }
   ],
   "source": [
    "first_name = input(\"Enter first name : \")\n",
    "last_name = input(\"Enter last name : \")\n",
    "print(first_name[::-1], last_name[::-1])"
   ]
  },
  {
   "cell_type": "markdown",
   "id": "ad960c00",
   "metadata": {},
   "source": [
    "Que. 3"
   ]
  },
  {
   "cell_type": "code",
   "execution_count": 3,
   "id": "40948e8f",
   "metadata": {},
   "outputs": [
    {
     "name": "stdout",
     "output_type": "stream",
     "text": [
      "904.7786842338604\n"
     ]
    }
   ],
   "source": [
    "import math\n",
    "def vol_sphere(dia):\n",
    "    rad = dia/2\n",
    "    vol = (4*math.pi*rad*rad*rad)/3\n",
    "    return vol\n",
    "\n",
    "print(vol_sphere(12))"
   ]
  },
  {
   "cell_type": "code",
   "execution_count": null,
   "id": "ca86ccd1",
   "metadata": {},
   "outputs": [],
   "source": []
  }
 ],
 "metadata": {
  "kernelspec": {
   "display_name": "Python 3",
   "language": "python",
   "name": "python3"
  },
  "language_info": {
   "codemirror_mode": {
    "name": "ipython",
    "version": 3
   },
   "file_extension": ".py",
   "mimetype": "text/x-python",
   "name": "python",
   "nbconvert_exporter": "python",
   "pygments_lexer": "ipython3",
   "version": "3.8.8"
  }
 },
 "nbformat": 4,
 "nbformat_minor": 5
}
