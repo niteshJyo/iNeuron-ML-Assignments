{
 "cells": [
  {
   "cell_type": "markdown",
   "id": "3055caff",
   "metadata": {},
   "source": [
    "### Que. 1"
   ]
  },
  {
   "cell_type": "code",
   "execution_count": 1,
   "id": "6a1a2129",
   "metadata": {},
   "outputs": [
    {
     "name": "stdout",
     "output_type": "stream",
     "text": [
      "\n",
      "* \n",
      "* * \n",
      "* * * \n",
      "* * * * \n",
      "* * * * * \n",
      "* * * * \n",
      "* * * \n",
      "* * \n",
      "* \n"
     ]
    }
   ],
   "source": [
    "def pattern():\n",
    "    for i in range(5):\n",
    "        for j in range(i):\n",
    "            print(\"*\", end = \" \")\n",
    "        print()\n",
    "    for i in range(5):\n",
    "        for j in range(5-i):\n",
    "            print(\"*\", end = \" \")\n",
    "        print()\n",
    "    \n",
    "pattern()"
   ]
  },
  {
   "cell_type": "markdown",
   "id": "d6ec526c",
   "metadata": {},
   "source": [
    "### Que. 2"
   ]
  },
  {
   "cell_type": "code",
   "execution_count": 2,
   "id": "99f63df1",
   "metadata": {},
   "outputs": [
    {
     "name": "stdout",
     "output_type": "stream",
     "text": [
      "Enter input string : Nitesh\n",
      "hsetiN\n"
     ]
    }
   ],
   "source": [
    "def rev_str(string):\n",
    "    return string[::-1]\n",
    "\n",
    "s = input(\"Enter input string : \")\n",
    "print(rev_str(s))"
   ]
  },
  {
   "cell_type": "code",
   "execution_count": null,
   "id": "42f0336e",
   "metadata": {},
   "outputs": [],
   "source": []
  }
 ],
 "metadata": {
  "kernelspec": {
   "display_name": "Python 3",
   "language": "python",
   "name": "python3"
  },
  "language_info": {
   "codemirror_mode": {
    "name": "ipython",
    "version": 3
   },
   "file_extension": ".py",
   "mimetype": "text/x-python",
   "name": "python",
   "nbconvert_exporter": "python",
   "pygments_lexer": "ipython3",
   "version": "3.8.8"
  }
 },
 "nbformat": 4,
 "nbformat_minor": 5
}
